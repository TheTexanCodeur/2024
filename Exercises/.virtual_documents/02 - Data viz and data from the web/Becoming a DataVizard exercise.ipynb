


# Let's load necessary libraries and the datasets
# "pip install seaborn" if necessary

import pandas as pd
import numpy as np
import matplotlib.pyplot as plt
%matplotlib inline
import seaborn as sns
import math

data_folder = './Data/'


movies = pd.read_csv(data_folder+'blockbusters.csv')
movies['worldwide_gross'] = movies['worldwide_gross'].str.replace('$', '', regex=False).str.replace(',', '', regex=False).astype(float)

commune_pop = pd.read_excel(data_folder+'communes_pop.xls',skiprows=5,skipfooter=7,
                            sheet_name='2017',names=['commune','population_Jan',
                                                     'birth_alive','death','natrual_increase',
                                                     'arrivals','departure','migratory_balance',
                                                     'divergence_statistic','population_Dec','variation_num',
                                                     'variation_ratio'])

pop_per_commune = commune_pop[[name.startswith('......') for name in commune_pop.commune]].copy()














#we use pandas wrapper
#movies['worldwide_gross'].hist(bins = 100)

#alternatively, we can use matplotlib directly
plt.hist(movies['worldwide_gross'], bins = 100)

plt.xlabel('Worldwide gross revenue')
plt.ylabel('Number of movies')
plt.title('Gross revenue, histogram');


plt.boxplot(movies['worldwide_gross'])
plt.xticks([])
plt.title('Worldwide gross revenue');





plt.scatter(movies['worldwide_gross'], movies['imdb_rating'])

plt.xlabel('Worldwide gross revenue')
plt.ylabel('IMDB rating')





plt.scatter(movies['worldwide_gross'], movies['imdb_rating'], s = 2)

plt.xlabel('Worldwide gross revenue')
plt.ylabel('IMDB rating')








sns.jointplot(x=movies['worldwide_gross'], y=movies['imdb_rating'], kind="hex")


sns.jointplot(data = movies, x = 'worldwide_gross', y = 'imdb_rating', kind="kde")



sns.jointplot(data = movies, x = 'worldwide_gross', y = 'imdb_rating', kind="reg")





ax = sns.barplot(x="Main_Genre", y="worldwide_gross", data=movies.loc[movies['Main_Genre'].isin(['Thriller','Comedy',
                                                                                      'Fantasy','Sci-Fi','Romance'])])


ax = sns.boxplot(x="Main_Genre", y="worldwide_gross", data=movies.loc[movies['Main_Genre'].isin(['Thriller','Comedy',
                                                                                      'Fantasy','Sci-Fi','Romance'])])


ax = sns.violinplot(x="Main_Genre", y="worldwide_gross", data=movies.loc[movies['Main_Genre'].isin(['Thriller','Comedy',
                                                                                      'Fantasy','Sci-Fi','Romance'])])





movies


# Calculate yearly stats across movies here
average_revenue = movies.groupby("year")[['year','worldwide_gross']].mean()
std = movies.groupby("year")[['worldwide_gross']].std()



# Write your code to make plot with errorbars here

plt.errorbar(data=average_revenue, x='year',y='worldwide_gross', yerr=std.T, marker='.', markersize=10, markerfacecolor='tab:orange', markeredgewidth=0,)
plt.xlabel('years')
plt.ylabel('average revenue')
plt.title('average revenue of each year')


# Write your code to make filled plot here
plt.fill_between(data = average_revenue,x='year',y1=average_revenue['worldwide_gross'] - std['worldwide_gross'],
                 y2=average_revenue['worldwide_gross'] + std['worldwide_gross'], alpha=0.2)
plt.errorbar(data=average_revenue, x='year',y='worldwide_gross', marker='.', markersize=10, markerfacecolor='tab:orange', markeredgewidth=0)


# Write your interpretation here
#stonks until 2014





# Calculate stats by genre here


fig, axs = plt.subplots(4, 4)

#group the movies lengths by movies genres
grouped_length = movies.groupby("Main_Genre")[['length']]

for index, group in enumerate(grouped_length):
    axs[index//4 , index%4].hist(group[1],bins=20)
    axs[index//4 , index%4].set_title(group[0])
    
plt.tight_layout()

# Set common labels
fig.text(0.5, 0.0, 'Movie length in minutes', ha='center', va='center')
fig.text(0.0, 0.5, 'Number of movies', ha='center', va='center', rotation='vertical')
fig.set_size_inches(8,8)
  


# Write your interpretation here





# Write your code to make the first heatmap here

pivot_table = movies.pivot_table(index='studio', columns='Main_Genre', aggfunc='size', fill_value=0)

sns.heatmap(pivot_table, cmap="crest")


# Write your code to make the second heatmap here

genres_revenues = movies.groupby(['Main_Genre','Genre_2'])['worldwide_gross'].mean().reset_index()

genres_pivot = genres_revenues.pivot_table(index='Main_Genre',columns='Genre_2', values= 'worldwide_gross',fill_value=0)

sns.heatmap(genres_pivot,cmap='crest')




# Write your interpretations here





# Write your dataviz show-off code here
plt.figure(figsize=(12,8))
sns.boxplot(data=movies,x='Main_Genre',y='rank_in_year')
plt.tight_layout()





pop_per_commune['population_Dec'].hist(bins=100)





# Write your code here
pop_per_commune['population_Dec'].plot(kind="hist", loglog=True, bins=1000, histtype='step')


pop_per_commune['population_Dec'].plot(kind="hist", loglog=True, bins=3000, histtype='step', density=True, cumulative=-1)



