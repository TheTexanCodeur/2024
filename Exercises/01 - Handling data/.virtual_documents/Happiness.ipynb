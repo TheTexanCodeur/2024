


!head Data/countries_info.csv


import pandas as pd
%matplotlib inline

DATA_FOLDER = 'Data/'

HAPPINESS_DATASET = DATA_FOLDER+"happiness2020.csv"
COUNTRIES_DATASET = DATA_FOLDER+"countries_info.csv"





# loading the happiness dataframe from the csv
happiness = pd.read_csv(HAPPINESS_DATASET)

# loading the countries dataframe from the csv
countries = pd.read_csv(COUNTRIES_DATASET)



# plotting the happiness dataframe
happiness


# plotting the countries dataframe
countries


# formatting the country names
happiness.country = happiness.country.str.lower()
happiness





# outer merge of the two dataframes
country_features = pd.merge(happiness, countries, left_on="country", right_on="country_name")

# removing the duplicate column 
country_features = country_features.drop("country_name", axis = 1)
country_features


country_features.literacy.describe()


# reformating the literacy column 
country_features.literacy = country_features.literacy.str.replace(',','.').astype(float)


country_features.literacy.describe()





# retrieving the top 10 happiest countries
country_features[["country","happiness_score"]].sort_values(ascending=[False], 
                                           by=["happiness_score"]).head(10)





# typecasting the world regions for mor efficiency during grouping 
country_features["world_region"] = country_features.world_region.astype('category')

# grouping the happiness score by the world region
country_groups = country_features.happiness_score.groupby(country_features.world_region, observed=False)

# computing the mean of each group and creating a new dataframe 
happiness_regions = country_groups.mean().to_frame(name='mean_happiness')

# adding the size of each group to the dataframe 
happiness_regions['group_size'] = country_groups.size()

# sorting the dataframe by the happiness score
happiness_regions.sort_values(ascending=False, by=["mean_happiness"])






# retrieving the name and happiness score of the happiest world region
country_features.loc[country_features.world_region == "North America and ANZ", ["country", "happiness_score"]]





# retrieving the country with a literacy level of 100% 
literacy = country_features.loc[country_features.literacy == 100]

# printing the results in a specific format
for index, row in literacy.iterrows():
    print(f'{row["world_region"]} - {row["country"]} ({row["happiness_score"]})')





# global average literace percentage
country_features.literacy.mean()





# proportion of countries with a literacy level below 50%
proportion_literacy = len(country_features[(country_features["literacy"]<50.0)])/len(country_features)
print('%.2f' % (proportion_literacy * 100))





# world population 
world_population = country_features.population.sum()

# raw number of illiterate people
illiterate_population = country_features[["population", "literacy"]].apply(lambda x: x.iloc[0] * (1 - x.iloc[1] / 100),axis = 1).sum()

print(illiterate_population)

# percentage of world population that is illiterate
print('%.2f '% (illiterate_population/world_population * 100))





country_features['population_density'] = country_features['population'] / country_features['area'] 
country_features





country_features[['country','happiness_score','population_density']].sort_values(ascending=True, by='population_density').head(3)





country_features.plot.scatter(x='happiness_score', y='healthy_life_expectancy')






