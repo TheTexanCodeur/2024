





import pandas as pd
import numpy as np
pd.options.mode.chained_assignment = None  # default='warn', Mutes warnings when copying a slice from a DataFrame.








counts = pd.Series([632, 1638, 569, 115])
counts





counts.values


counts.index





bacteria = pd.Series([632, 1638, 569, 115], 
    index=['Firmicutes', 'Proteobacteria', 'Actinobacteria', 'Bacteroidetes'])

bacteria





bacteria['Actinobacteria'] #dictionary style


bacteria[[name.endswith('bacteria') for name in bacteria.index]]


[name.endswith('bacteria') for name in bacteria.index] #mask





bacteria[0]





bacteria.name = 'counts'
bacteria.index.name = 'phylum'
bacteria





np.log(bacteria)


bacteria.apply(np.log)





bacteria[bacteria>1000]





bacteria_dict = { 'Firmicutes': 632, 
                  'Proteobacteria': 1638, 
                  'Actinobacteria': 569,
                  'Bacteroidetes': 115 }
pd.Series(bacteria_dict)





bacteria2 = pd.Series(bacteria_dict, 
                      index=['Cyanobacteria','Firmicutes',
                             'Proteobacteria','Actinobacteria'])
bacteria2


bacteria2.isnull()





bacteria + bacteria2








data = pd.DataFrame({'value':[632, 1638, 569, 115, 433, 1130, 754, 555],
                     'patient':[1, 1, 1, 1, 2, 2, 2, 2],
                     'phylum':['Firmicutes', 'Proteobacteria', 'Actinobacteria', 
    'Bacteroidetes', 'Firmicutes', 'Proteobacteria', 'Actinobacteria', 'Bacteroidetes']})
data





data[['phylum','value','patient']]





data.index





data.dtypes





data['patient']


data.value


data[['value']]


type(data[['value']])


type(data.value)





data.loc[3]





data.shape[0]





data = pd.DataFrame([{'patient': 1, 'phylum': 'Firmicutes', 'value': 632},
                    {'patient': 1, 'phylum': 'Proteobacteria', 'value': 1638},
                    {'patient': 1, 'phylum': 'Actinobacteria', 'value': 569},
                    {'patient': 1, 'phylum': 'Bacteroidetes', 'value': 115},
                    {'patient': 2, 'phylum': 'Firmicutes', 'value': 433},
                    {'patient': 2, 'phylum': 'Proteobacteria', 'value': 1130},
                    {'patient': 2, 'phylum': 'Actinobacteria', 'value': 754},
                    {'patient': 2, 'phylum': 'Bacteroidetes', 'value': 555}])
data





vals = data.value
vals


vals[5] = 0
data.value





vals = data.value.copy()
vals[5] = 1000
data.value





data.value[[3,4,6]] = [14, 21, 5]
data


data['year'] = 2013
data





data.treatment = 1
data


data.treatment





# Version prof
data[data['phylum'].apply(lambda x: x.endswith('bacteria')) & data['value'].apply(lambda x: x>1000)]


data[[name.endswith("bacteria") for name in data.phylum] and [value > 1000 for value in data.value]]





treatment = pd.Series([0]*4 + [1]*2)
treatment


data['treatment'] = treatment
data





data_nomonth = data.drop('treatment', axis=1)
data_nomonth


data_nomonth.drop(0)





df = pd.DataFrame({'foo': [1,2,3], 'bar':[0.4, -1.0, 4.5]})
df.values


df.values.dtype





#data.index[0] = 15 #that doesn't work





bacteria2.index = bacteria.index


bacteria2











!head Data/microbiome.csv





mb = pd.read_csv("Data/microbiome.csv", sep=',')
mb.head()





pd.read_csv("Data/microbiome.csv", header=None).head()





mb = pd.read_csv("Data/microbiome.csv", sep=',')








mb = pd.read_csv("Data/microbiome.csv", index_col=['Patient','Taxon'])
mb.head()








pd.read_csv("Data/microbiome.csv", skiprows=[3,4,6]).head()





pd.read_csv("Data/microbiome.csv", nrows=4)





!head -n 10 Data/microbiome_missing.csv


pd.read_csv("Data/microbiome_missing.csv").head(10)





pd.isnull(pd.read_csv("Data/microbiome_missing.csv")).head(10)





pd.read_csv("Data/microbiome_missing.csv", na_values=['?', -99999]).head(10)








mb = pd.read_excel('Data/microbiome_MID2.xls', sheet_name='Sheet 1', header=None)
mb.head()











baseball = pd.read_csv("Data/baseball.csv", index_col='id')
baseball.head()





baseball.index.is_unique


player_id = baseball.player + baseball.year.astype(str)
baseball_newind = baseball.copy()
baseball_newind.index = player_id
baseball_newind.head()





baseball_newind.index.is_unique








baseball_newind.loc['wickmbo012007']








player_unique = baseball.player + baseball.team + baseball.year.astype(str)
baseball_newind = baseball.copy()
baseball_newind.index = player_unique
baseball_newind.head()


baseball_newind.index.is_unique








player_unique = baseball.team + baseball.year.astype(str) + baseball.player
player_unique.is_unique





# Numpy-style indexing
baseball_newind[:3]





baseball_newind['womacto01CHN2006':'gonzalu01ARI2006']


baseball_newind['womacto01CHN2006':'gonzalu01ARI2006'] = 5
baseball_newind.head(10)





baseball_newind.query('ab > 500')





min_ab = 500


baseball_newind.query('ab > @min_ab')





baseball_newind.loc['gonzalu01ARI2006', ['h','X2b', 'X3b', 'hr']]


baseball_newind.loc[:'myersmi01NYA2006', 'hr']





baseball_newind.iloc[:5, 5:8]





len(baseball[baseball.team.isin(['LAN', 'SFN'])])





baseball_h = baseball.set_index(['year', 'team', 'player'])
baseball_h.head(10)


baseball_h.index.is_unique





baseball_h.loc[(2007, 'ATL', 'francju01')]





mb = pd.read_csv("Data/microbiome.csv", index_col=['Taxon','Patient'])


mb.head(10)





mb.loc['Proteobacteria']





frame = pd.DataFrame(np.arange(12).reshape(( 4, 3)), 
                  index =[['a', 'a', 'b', 'b'], [1, 2, 1, 2]], 
                  columns =[['Ohio', 'Ohio', 'Colorado'], ['Green', 'Red', 'Green']])

frame





frame.index.names = ['key1', 'key2']
frame.columns.names = ['state', 'color']
frame





frame.columns = frame.columns.swaplevel('state', 'color')
frame





hr2006 = baseball.loc[baseball.year==2006, 'hr']
hr2006.index = baseball.player[baseball.year==2006]

hr2007 = baseball.loc[baseball.year==2007, 'hr']
hr2007.index = baseball.player[baseball.year==2007]


hr2007.head(10)





hr_total = hr2006 + hr2007
hr_total.head(20)





hr_total[hr_total.notnull()]





hr2007.add(hr2006, fill_value=0).head(20)





(baseball.hr - baseball.hr.max()).head(20)





baseball_newind.sort_index().head()


baseball_newind.sort_index(ascending=False).head()





baseball_newind.sort_index(axis=1).head()





baseball.hr.sort_values(ascending=False).head(10)





baseball[['player','sb','cs']].sort_values(ascending=[False,True], 
                                           by=['sb', 'cs']).head(10)





baseball['obp']=baseball.apply(lambda p: (p.h+p.bb+p.hbp)/(p.ab+p.bb+p.hbp+p.sf) if (p.ab+p.bb+p.hbp+p.sf) != 0.0 else 0.0, axis=1)





foo = pd.Series([np.nan, -3, None, 'foobar'])
foo


foo.isnull()





foo.dropna()


foo[foo.notnull()]





data.dropna()





data.dropna(how='all')





bacteria2.fillna(0)


data.fillna({'year': 2013, 'treatment':2})








data['treatment'].fillna(2, inplace=True)
data





bacteria2.fillna(method='bfill')





baseball.sum()





baseball.mean(numeric_only=True)





bacteria2


bacteria2.mean()





bacteria2.mean(skipna=False)





extra_bases = baseball[['X2b','X3b','hr']].sum(axis=1)
extra_bases.sort_values(ascending=False).head(20)





baseball.describe()





baseball.player.describe()





baseball.hr.cov(baseball.X2b)





baseball.hr.corr(baseball.X2b)


baseball.ab.corr(baseball.h)





baseball.plot.scatter(x='hr', y='X2b')


baseball.plot.scatter(x='ab', y='h')





baseball['ab'].hist()


baseball['h'].hist()








mb.to_csv("mb.csv")








baseball.to_pickle("baseball_pickle")





pd.read_pickle("baseball_pickle").head()






