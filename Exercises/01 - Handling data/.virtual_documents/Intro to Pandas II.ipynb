





%matplotlib inline
import pandas as pd
import numpy as np
import matplotlib.pyplot as plt
import seaborn as sns
sns.set_context('notebook')








from datetime import datetime, date, time


now = datetime.now()
now


date(1970, 9, 3)





my_age = now - datetime(2004, 1, 8)
my_age.days/365





segments = pd.read_csv("Data/transit_segments.csv")
segments.head()





segments.seg_length.hist(bins=500)





segments.seg_length.apply(np.log).hist(bins=500)








datetime.strptime(segments.st_time.iloc[0], '%m/%d/%y %H:%M')





from dateutil.parser import parse


parse(segments.st_time.iloc[0])





segments.st_time.apply(lambda d: datetime.strptime(d, '%m/%d/%y %H:%M')).head(10)





pd.to_datetime(segments.st_time[:10], format='%m/%d/%y %H:%M')





pd.to_datetime([None])








segments = pd.read_csv("Data/transit_segments.csv", parse_dates=['st_time', 'end_time'], date_format='%m/%d/%y %H:%M', nrows=1000)


segments.dtypes





segments.st_time.dt.month.head()





segments[segments.st_time.dt.month==2].head()








vessels = pd.read_csv("Data/vessel_information.csv", index_col='mmsi')
vessels.head()





df1 = pd.DataFrame(dict(id=range(4), age=np.random.randint(18, 31, size=4)))
df2 = pd.DataFrame(dict(id=list(range(3))+list(range(3)), 
                        score=np.random.random(size=6)))

df1


df2


pd.merge(df1, df2)





pd.merge(df1, df2, how='outer')








segments.head(5)


vessels.head(5)





segments_merged = pd.merge(vessels, segments, left_index=True, right_on='mmsi')


segments_merged.head()








vessels.merge(segments, left_index=True, right_on='mmsi').head()





segments['type'] = 'foo'
pd.merge(vessels, segments, left_index=True, right_on='mmsi').head()








#segments.merge(vessels).head(10) #empty
segments.merge(vessels, right_index=True, left_on='mmsi').head(10) #non-empty





np.concatenate([np.random.random(5), np.random.random(5)])





mb1 = pd.read_excel('Data/microbiome_MID1.xls', 'Sheet 1', index_col=0, header=None)
mb2 = pd.read_excel('Data/microbiome_MID2.xls', 'Sheet 1', index_col=0, header=None)
mb1.columns = mb2.columns = ['Count']
mb1.index.name = mb2.index.name = 'Taxon'
mb1.shape, mb2.shape


mb1.head()





mb1.index.is_unique





pd.concat([mb1, mb2], axis=0).head()





pd.concat([mb1, mb2], axis=0).index.is_unique





pd.concat([mb1, mb2], axis=1).shape


pd.concat([mb1, mb2], axis=1).head()








cdystonia = pd.read_csv("Data/cdystonia.csv", index_col=None)
cdystonia.head()








stacked = cdystonia.stack()
stacked.head(15)





stacked.unstack().head()








twstrs_wide = cdystonia.pivot(index='patient', columns='obs', values='twstrs').head()
twstrs_wide


cdystonia_wide = (cdystonia[['patient','site','id','treat','age','sex']]
                  .drop_duplicates()
                  .merge(twstrs_wide, right_index=True, left_on='patient', how='inner')
                  .head())
cdystonia_wide





pd.melt(cdystonia_wide, id_vars=['patient','site','id','treat','age','sex'], var_name='obs', value_name='twsters').head()








cdystonia.pivot_table(index=['site', 'treat'], columns='week', values='twstrs', aggfunc=max).head(10)





pd.crosstab(cdystonia.sex, cdystonia.site)








vessels.duplicated(subset='names').head(30)


vessels.drop_duplicates(['names']).head()





cdystonia.treat.value_counts()





cdystonia['treatment'] = cdystonia.treat.map({'Placebo': 0, '5000U': 1, '10000U': 2})
cdystonia.treatment.head(10)





cdystonia.treat.replace({0:'Placebo', 1:'5000U', 2:'10000U'}).head(10)





pd.get_dummies(vessels.head(10).type)





cdystonia.treat.head()





pd.Categorical(cdystonia.treat)


cdystonia['treat'] = cdystonia.treat.astype('category')


cdystonia.treat.describe()





cdystonia.treat.cat.codes.head(20)





%time segments.groupby(segments.name).seg_length.sum().sort_values(ascending=False, inplace=False).head()


segments['name'] = segments.name.astype('category')


%time segments.groupby(segments.name).seg_length.sum().sort_values(ascending=False, inplace=False).head()








cdystonia.age.describe()





pd.cut(cdystonia.age, [20,30,40,50,60,70,80,90])[:20]





pd.cut(cdystonia.age, [20,30,40,50,60,70,80,90], right=False)[:20]





pd.cut(cdystonia.age, [20,40,60,80,90], labels=['young','middle-aged','old','really old'])[:20]





pd.qcut(cdystonia.age, 4)[:20]





quantiles = pd.qcut(segments.seg_length, [0, 0.01, 0.05, 0.95, 0.99, 1])
quantiles[:20]





new_order = np.random.permutation(len(segments))
new_order[:30]





segments.take(new_order).head()





segments.head()





vessels.sample(n=10)


vessels.sample(n=10, replace=True)





cdystonia_grouped = cdystonia.groupby(cdystonia.patient)
cdystonia_grouped





for patient, group in cdystonia_grouped:
    print('patient', patient)
    print('group', group)








cdystonia_grouped = cdystonia.drop(columns=['treat', 'sex']).groupby(cdystonia.patient)
cdystonia_grouped.agg('mean').head()
cdystonia_grouped.mean().head() #equivalent 








cdystonia_grouped.mean().add_suffix('_mean').head()


# The median of the `twstrs` variable
cdystonia_grouped['twstrs'].quantile(0.5).head(10)





cdystonia.drop(columns=['treat', 'sex']).groupby(['week','site']).mean().head()








def top(df, column, n=5):
    return df.sort_values(by=column, ascending=False)[:n]





top3segments = segments_merged.groupby('mmsi').apply(top, column='seg_length', n=3)[['names', 'seg_length']]
top3segments.head(15)






