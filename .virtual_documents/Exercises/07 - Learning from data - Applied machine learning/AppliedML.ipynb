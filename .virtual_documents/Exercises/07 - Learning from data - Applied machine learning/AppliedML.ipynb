


import numpy as np
import matplotlib.pyplot as plt
import pandas as pd
import scipy as sp
from itertools import combinations 
import ast
from sklearn.linear_model import LogisticRegression
import seaborn as sn
%matplotlib inline

data_folder = './data/'





columns = ['animal_type', 'intake_year', 'intake_condition', 'intake_number', 'intake_type', 'sex_upon_intake', \
          'age_upon_intake_(years)', 'time_in_shelter_days', 'sex_upon_outcome', 'age_upon_outcome_(years)', \
          'outcome_type']
original_data = pd.read_csv(data_folder+'aac_intakes_outcomes.csv', usecols=columns)
original_data.head()


# Drop uncomplete data
original_data.dropna(inplace=True)


data_features = original_data.copy()
# Numerize the adoption status
data_features['adopted'] = data_features.outcome_type.apply(lambda r: 1 if r=='Adoption' else 0)
# Remove the old data representation
data_features.drop("outcome_type", axis = 1, inplace=True)


# Dummy encoding
dummy_data = pd.get_dummies(data_features, columns=['sex_upon_outcome','animal_type','intake_condition','intake_type','sex_upon_intake',])
dummy_data


def split_data(x, ratio=0.8):
    
    p = np.random.permutation(len(x))

    x_rand = x.iloc[p].reset_index(drop=True)
    
    sep_index = int(np.floor(len(x) * ratio))
   
    return x_rand[:sep_index], x_rand[sep_index:]
   


train, test = split_data(dummy_data)


y_train = train.adopted
x_train = train.drop('adopted', axis=1)

y_test = test.adopted
x_test = test.drop('adopted', axis=1)


# Standardize
x_train_final =( x_train - x_train.mean() ) / x_train.std()

x_test_final =( x_test - x_test.mean() ) / x_test.std()
x_train_final





logistic = LogisticRegression(solver='lbfgs', max_iter=10000)
logistic.fit(x_train_final,y_train)


prediction_proba = logistic.predict_proba(x_test_final)


def compute_confusion_matrix(true_label, prediction_proba, decision_threshold=0.5): 
    
    predict_label = (prediction_proba[:,1]>decision_threshold).astype(int)   
                                                                                                                       
    TP = np.sum(np.logical_and(predict_label==1, true_label==1))
    TN = np.sum(np.logical_and(predict_label==0, true_label==0))
    FP = np.sum(np.logical_and(predict_label==1, true_label==0))
    FN = np.sum(np.logical_and(predict_label==0, true_label==1))
    
    confusion_matrix = np.asarray([[TP, FP],
                                    [FN, TN]])
    return confusion_matrix


def plot_confusion_matrix(confusion_matrix):
    [[TP, FP],[FN, TN]] = confusion_matrix
    label = np.asarray([['TP {}'.format(TP), 'FP {}'.format(FP)],
                        ['FN {}'.format(FN), 'TN {}'.format(TN)]])
    
    df_cm = pd.DataFrame(confusion_matrix, index=['Yes', 'No'], columns=['Positive', 'Negative']) 
    
    return sn.heatmap(df_cm, cmap='YlOrRd', annot=label, annot_kws={"size": 16}, cbar=False, fmt='')


def compute_all_score(confusion_matrix, t=0.5):
    [[TP, FP],[FN, TN]] = confusion_matrix.astype(float)
    
    accuracy =  (TP+TN)/np.sum(confusion_matrix)
    
    precision_positive = TP/(TP+FP) if (TP+FP) !=0 else np.nan
    precision_negative = TN/(TN+FN) if (TN+FN) !=0 else np.nan
    
    recall_positive = TP/(TP+FN) if (TP+FN) !=0 else np.nan
    recall_negative = TN/(TN+FP) if (TN+FP) !=0 else np.nan

    F1_score_positive = 2 *(precision_positive*recall_positive)/(precision_positive+recall_positive) if (precision_positive+recall_positive) !=0 else np.nan
    F1_score_negative = 2 *(precision_negative*recall_negative)/(precision_negative+recall_negative) if (precision_negative+recall_negative) !=0 else np.nan

    return [t, accuracy, precision_positive, recall_positive, F1_score_positive, precision_negative, recall_negative, F1_score_negative]


confusion_matrix_05 = compute_confusion_matrix(y_test, prediction_proba, 0.5 )
plt.figure(figsize = (4,3)) 
ax = plot_confusion_matrix(confusion_matrix_05)
plt.xlabel('Actual')
plt.ylabel('Predicted')
plt.title('Confusion matrix for a 0.5 threshold')



























